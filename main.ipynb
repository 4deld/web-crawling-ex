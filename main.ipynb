{
 "cells": [
  {
   "cell_type": "code",
   "execution_count": 26,
   "id": "b3052fb1",
   "metadata": {},
   "outputs": [],
   "source": [
    "#!pip install python-dotenv\n",
    "#!pip install selenium"
   ]
  },
  {
   "cell_type": "code",
   "execution_count": 1,
   "id": "59a4853b",
   "metadata": {},
   "outputs": [],
   "source": [
    "from dotenv import load_dotenv\n",
    "from selenium import webdriver as wb\n",
    "from selenium.webdriver.common.keys import Keys\n",
    "from selenium.webdriver.common.by import By\n",
    "import time\n",
    "import os\n",
    "from urllib.request import urlretrieve\n",
    "import re"
   ]
  },
  {
   "cell_type": "code",
   "execution_count": 13,
   "id": "90e8e0c8",
   "metadata": {},
   "outputs": [],
   "source": [
    "load_dotenv()\n",
    "INSTAGRAM_ID=os.environ['INSTAGRAM_ID']\n",
    "INSTAGRAM_PW=os.environ['INSTAGRAM_PW']\n",
    "TARGET=os.environ['TARGET']\n",
    "\n",
    "driver = wb.Chrome()\n",
    "driver.get(\"https://www.instagram.com/\")"
   ]
  },
  {
   "cell_type": "code",
   "execution_count": 14,
   "id": "fc6f996b",
   "metadata": {},
   "outputs": [],
   "source": [
    "#로그인 정보 입력\n",
    "# 아이디 입력하는 방법\n",
    "inputID = driver.find_element(By.CSS_SELECTOR, \"#loginForm > div > div:nth-child(1) > div > label > input\")\n",
    "inputID.send_keys(INSTAGRAM_ID)"
   ]
  },
  {
   "cell_type": "code",
   "execution_count": 15,
   "id": "48409804",
   "metadata": {},
   "outputs": [],
   "source": [
    "# 비밀번호 입력하는 방법\n",
    "inputPW = driver.find_element(By.CSS_SELECTOR, \"#loginForm > div > div:nth-child(2) > div > label > input\")\n",
    "inputPW.send_keys(INSTAGRAM_PW)"
   ]
  },
  {
   "cell_type": "code",
   "execution_count": 16,
   "id": "efef2f2b",
   "metadata": {},
   "outputs": [],
   "source": [
    "# 로그인 버튼을 클릭    \n",
    "loginBtn = driver.find_element(By.CSS_SELECTOR, \"#loginForm > div > div:nth-child(3) > button > div\")\n",
    "loginBtn.click()"
   ]
  },
  {
   "cell_type": "code",
   "execution_count": 17,
   "id": "131cd440",
   "metadata": {},
   "outputs": [],
   "source": [
    "# 로그인저장 나중에하기 버튼 클릭\n",
    "laterBtn = driver.find_element(By.XPATH, \"/html/body/div[2]/div/div/div[2]/div/div/div[1]/div[1]/div[2]/section/main/div/div/div/div/div\")\n",
    "laterBtn.click()\n"
   ]
  },
  {
   "cell_type": "code",
   "execution_count": 19,
   "id": "71477ffa",
   "metadata": {},
   "outputs": [],
   "source": [
    "# 알림설정 나중에하기 버튼 클릭\n",
    "noticeBtn = driver.find_element(By.XPATH, \"/html/body/div[3]/div[1]/div/div[2]/div/div/div/div/div[2]/div/div/div[3]/button[2]\")\n",
    "noticeBtn.click()"
   ]
  },
  {
   "cell_type": "code",
   "execution_count": 23,
   "id": "362af2a6",
   "metadata": {},
   "outputs": [],
   "source": [
    "# 검색버튼의 위치를 클릭\n",
    "searchBtn = driver.find_element(By.XPATH, \"/html/body/div[2]/div/div/div[2]/div/div/div[1]/div[1]/div[1]/div/div/div/div/div[2]/div[2]/span/div/a/div/div[1]/div/div\")\n",
    "searchBtn.click()"
   ]
  },
  {
   "cell_type": "code",
   "execution_count": 24,
   "id": "d7c3d0b9",
   "metadata": {},
   "outputs": [],
   "source": [
    "# 검색창에 타겟 입력\n",
    "searchInput = driver.find_element(By.XPATH, \"/html/body/div[2]/div/div/div[2]/div/div/div[1]/div[1]/div[1]/div/div/div[2]/div/div/div[2]/div/div/div[1]/div/div/input\")\n",
    "searchInput.send_keys(TARGET)"
   ]
  },
  {
   "cell_type": "code",
   "execution_count": 25,
   "id": "28f13664",
   "metadata": {},
   "outputs": [],
   "source": [
    "# 검색 상단에 등장한 내용을 클릭\n",
    "target = driver.find_element(By.XPATH, \"/html/body/div[2]/div/div/div[2]/div/div/div[1]/div[1]/div[1]/div/div/div[2]/div/div/div[2]/div/div/div[2]/div/a[1]/div[1]\")\n",
    "target.click()"
   ]
  },
  {
   "cell_type": "code",
   "execution_count": null,
   "id": "9f96f5a3",
   "metadata": {},
   "outputs": [],
   "source": []
  }
 ],
 "metadata": {
  "kernelspec": {
   "display_name": "Python 3 (ipykernel)",
   "language": "python",
   "name": "python3"
  },
  "language_info": {
   "codemirror_mode": {
    "name": "ipython",
    "version": 3
   },
   "file_extension": ".py",
   "mimetype": "text/x-python",
   "name": "python",
   "nbconvert_exporter": "python",
   "pygments_lexer": "ipython3",
   "version": "3.9.7"
  }
 },
 "nbformat": 4,
 "nbformat_minor": 5
}
