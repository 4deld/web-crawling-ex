{
 "cells": [
  {
   "cell_type": "code",
   "execution_count": 1,
   "id": "b3052fb1",
   "metadata": {},
   "outputs": [
    {
     "name": "stdout",
     "output_type": "stream",
     "text": [
      "Requirement already satisfied: python-dotenv in c:\\users\\4444d\\anaconda3\\lib\\site-packages (0.21.0)\n",
      "Collecting selenium\n",
      "  Downloading selenium-4.20.0-py3-none-any.whl.metadata (6.9 kB)\n",
      "Requirement already satisfied: urllib3<3,>=1.26 in c:\\users\\4444d\\anaconda3\\lib\\site-packages (from urllib3[socks]<3,>=1.26->selenium) (2.0.7)\n",
      "Collecting trio~=0.17 (from selenium)\n",
      "  Downloading trio-0.25.0-py3-none-any.whl.metadata (8.7 kB)\n",
      "Collecting trio-websocket~=0.9 (from selenium)\n",
      "  Downloading trio_websocket-0.11.1-py3-none-any.whl.metadata (4.7 kB)\n",
      "Requirement already satisfied: certifi>=2021.10.8 in c:\\users\\4444d\\anaconda3\\lib\\site-packages (from selenium) (2024.2.2)\n",
      "Requirement already satisfied: typing_extensions>=4.9.0 in c:\\users\\4444d\\anaconda3\\lib\\site-packages (from selenium) (4.9.0)\n",
      "Collecting attrs>=23.2.0 (from trio~=0.17->selenium)\n",
      "  Using cached attrs-23.2.0-py3-none-any.whl.metadata (9.5 kB)\n",
      "Requirement already satisfied: sortedcontainers in c:\\users\\4444d\\anaconda3\\lib\\site-packages (from trio~=0.17->selenium) (2.4.0)\n",
      "Requirement already satisfied: idna in c:\\users\\4444d\\anaconda3\\lib\\site-packages (from trio~=0.17->selenium) (3.4)\n",
      "Collecting outcome (from trio~=0.17->selenium)\n",
      "  Downloading outcome-1.3.0.post0-py2.py3-none-any.whl.metadata (2.6 kB)\n",
      "Requirement already satisfied: sniffio>=1.3.0 in c:\\users\\4444d\\anaconda3\\lib\\site-packages (from trio~=0.17->selenium) (1.3.0)\n",
      "Requirement already satisfied: cffi>=1.14 in c:\\users\\4444d\\anaconda3\\lib\\site-packages (from trio~=0.17->selenium) (1.16.0)\n",
      "Collecting wsproto>=0.14 (from trio-websocket~=0.9->selenium)\n",
      "  Downloading wsproto-1.2.0-py3-none-any.whl.metadata (5.6 kB)\n",
      "Requirement already satisfied: pysocks!=1.5.7,<2.0,>=1.5.6 in c:\\users\\4444d\\anaconda3\\lib\\site-packages (from urllib3[socks]<3,>=1.26->selenium) (1.7.1)\n",
      "Requirement already satisfied: pycparser in c:\\users\\4444d\\anaconda3\\lib\\site-packages (from cffi>=1.14->trio~=0.17->selenium) (2.21)\n",
      "Collecting h11<1,>=0.9.0 (from wsproto>=0.14->trio-websocket~=0.9->selenium)\n",
      "  Using cached h11-0.14.0-py3-none-any.whl.metadata (8.2 kB)\n",
      "Downloading selenium-4.20.0-py3-none-any.whl (9.5 MB)\n",
      "   ---------------------------------------- 0.0/9.5 MB ? eta -:--:--\n",
      "   ---------------------------------------- 0.0/9.5 MB 1.4 MB/s eta 0:00:07\n",
      "    --------------------------------------- 0.1/9.5 MB 2.6 MB/s eta 0:00:04\n",
      "   - -------------------------------------- 0.5/9.5 MB 4.1 MB/s eta 0:00:03\n",
      "   --- ------------------------------------ 0.8/9.5 MB 4.9 MB/s eta 0:00:02\n",
      "   ------ --------------------------------- 1.6/9.5 MB 8.0 MB/s eta 0:00:01\n",
      "   ---------------- ----------------------- 3.9/9.5 MB 15.7 MB/s eta 0:00:01\n",
      "   ----------------------------- ---------- 6.9/9.5 MB 23.3 MB/s eta 0:00:01\n",
      "   -------------------------------- ------- 7.7/9.5 MB 22.4 MB/s eta 0:00:01\n",
      "   ---------------------------------------  9.5/9.5 MB 26.5 MB/s eta 0:00:01\n",
      "   ---------------------------------------- 9.5/9.5 MB 23.4 MB/s eta 0:00:00\n",
      "Downloading trio-0.25.0-py3-none-any.whl (467 kB)\n",
      "   ---------------------------------------- 0.0/467.2 kB ? eta -:--:--\n",
      "   ---------------------------------------- 467.2/467.2 kB ? eta 0:00:00\n",
      "Downloading trio_websocket-0.11.1-py3-none-any.whl (17 kB)\n",
      "Using cached attrs-23.2.0-py3-none-any.whl (60 kB)\n",
      "Downloading wsproto-1.2.0-py3-none-any.whl (24 kB)\n",
      "Downloading outcome-1.3.0.post0-py2.py3-none-any.whl (10 kB)\n",
      "Using cached h11-0.14.0-py3-none-any.whl (58 kB)\n",
      "Installing collected packages: h11, attrs, wsproto, outcome, trio, trio-websocket, selenium\n",
      "  Attempting uninstall: attrs\n",
      "    Found existing installation: attrs 23.1.0\n",
      "    Uninstalling attrs-23.1.0:\n",
      "      Successfully uninstalled attrs-23.1.0\n",
      "Successfully installed attrs-23.2.0 h11-0.14.0 outcome-1.3.0.post0 selenium-4.20.0 trio-0.25.0 trio-websocket-0.11.1 wsproto-1.2.0\n",
      "Collecting python-docx\n",
      "  Downloading python_docx-1.1.2-py3-none-any.whl.metadata (2.0 kB)\n",
      "Requirement already satisfied: lxml>=3.1.0 in c:\\users\\4444d\\anaconda3\\lib\\site-packages (from python-docx) (4.9.3)\n",
      "Requirement already satisfied: typing-extensions>=4.9.0 in c:\\users\\4444d\\anaconda3\\lib\\site-packages (from python-docx) (4.9.0)\n",
      "Downloading python_docx-1.1.2-py3-none-any.whl (244 kB)\n",
      "   ---------------------------------------- 0.0/244.3 kB ? eta -:--:--\n",
      "   ---------------------------------------- 0.0/244.3 kB ? eta -:--:--\n",
      "   ---- ---------------------------------- 30.7/244.3 kB 435.7 kB/s eta 0:00:01\n",
      "   --------- ----------------------------- 61.4/244.3 kB 544.7 kB/s eta 0:00:01\n",
      "   --------------------------------- ------ 204.8/244.3 kB 1.4 MB/s eta 0:00:01\n",
      "   ---------------------------------------- 244.3/244.3 kB 1.5 MB/s eta 0:00:00\n",
      "Installing collected packages: python-docx\n",
      "Successfully installed python-docx-1.1.2\n"
     ]
    }
   ],
   "source": [
    "#!pip install python-dotenv\n",
    "#!pip install selenium\n",
    "#!pip install python-docx"
   ]
  },
  {
   "cell_type": "code",
   "execution_count": 1,
   "id": "59a4853b",
   "metadata": {},
   "outputs": [],
   "source": [
    "from dotenv import load_dotenv\n",
    "from selenium import webdriver as wb\n",
    "from selenium.webdriver.common.keys import Keys\n",
    "from selenium.webdriver.common.by import By\n",
    "import time\n",
    "import os\n",
    "from urllib.request import urlretrieve\n",
    "import re\n",
    "# 가장 기본적인 기능(문서 열기, 저장, 글자 쓰기 등등)\n",
    "from docx import Document\n",
    "# Cm와 Inch 단위를 사용하기 위한 모듈\n",
    "from docx.shared import Cm, Inches"
   ]
  },
  {
   "cell_type": "code",
   "execution_count": 6,
   "id": "90e8e0c8",
   "metadata": {},
   "outputs": [],
   "source": [
    "load_dotenv()\n",
    "INSTAGRAM_ID=os.environ['INSTAGRAM_ID']\n",
    "INSTAGRAM_PW=os.environ['INSTAGRAM_PW']\n",
    "TARGET=os.environ['TARGET']\n",
    "\n",
    "driver = wb.Chrome()\n",
    "driver.get(\"https://www.instagram.com/\")\n",
    "TotalImgsCnt=0"
   ]
  },
  {
   "cell_type": "code",
   "execution_count": 7,
   "id": "fc6f996b",
   "metadata": {},
   "outputs": [],
   "source": [
    "#로그인 정보 입력\n",
    "# 아이디 입력하는 방법\n",
    "inputID = driver.find_element(By.CSS_SELECTOR, \"#loginForm > div > div:nth-child(1) > div > label > input\")\n",
    "inputID.send_keys(INSTAGRAM_ID)"
   ]
  },
  {
   "cell_type": "code",
   "execution_count": 8,
   "id": "48409804",
   "metadata": {},
   "outputs": [],
   "source": [
    "# 비밀번호 입력하는 방법\n",
    "inputPW = driver.find_element(By.CSS_SELECTOR, \"#loginForm > div > div:nth-child(2) > div > label > input\")\n",
    "inputPW.send_keys(INSTAGRAM_PW)"
   ]
  },
  {
   "cell_type": "code",
   "execution_count": 9,
   "id": "efef2f2b",
   "metadata": {},
   "outputs": [],
   "source": [
    "# 로그인 버튼을 클릭    \n",
    "loginBtn = driver.find_element(By.CSS_SELECTOR, \"#loginForm > div > div:nth-child(3) > button > div\")\n",
    "loginBtn.click()"
   ]
  },
  {
   "cell_type": "code",
   "execution_count": 10,
   "id": "131cd440",
   "metadata": {},
   "outputs": [],
   "source": [
    "# 로그인저장 나중에하기 버튼 클릭\n",
    "laterBtn = driver.find_element(By.XPATH, \"/html/body/div[2]/div/div/div[2]/div/div/div[1]/div[1]/div[2]/section/main/div/div/div/div/div\")\n",
    "laterBtn.click()\n"
   ]
  },
  {
   "cell_type": "code",
   "execution_count": 11,
   "id": "71477ffa",
   "metadata": {},
   "outputs": [],
   "source": [
    "# 알림설정 나중에하기 버튼 클릭\n",
    "noticeBtn = driver.find_element(By.XPATH, \"/html/body/div[3]/div[1]/div/div[2]/div/div/div/div/div[2]/div/div/div[3]/button[2]\")\n",
    "noticeBtn.click()"
   ]
  },
  {
   "cell_type": "code",
   "execution_count": 12,
   "id": "362af2a6",
   "metadata": {},
   "outputs": [],
   "source": [
    "# 검색버튼의 위치를 클릭\n",
    "searchBtn = driver.find_element(By.XPATH, \"/html/body/div[2]/div/div/div[2]/div/div/div[1]/div[1]/div[1]/div/div/div/div/div[2]/div[2]/span/div/a/div/div[1]/div/div\")\n",
    "searchBtn.click()"
   ]
  },
  {
   "cell_type": "code",
   "execution_count": 13,
   "id": "d7c3d0b9",
   "metadata": {},
   "outputs": [],
   "source": [
    "# 검색창에 타겟 입력\n",
    "searchInput = driver.find_element(By.XPATH, \"/html/body/div[2]/div/div/div[2]/div/div/div[1]/div[1]/div[1]/div/div/div[2]/div/div/div[2]/div/div/div[1]/div/div/input\")\n",
    "searchInput.send_keys(TARGET)"
   ]
  },
  {
   "cell_type": "code",
   "execution_count": 14,
   "id": "28f13664",
   "metadata": {},
   "outputs": [],
   "source": [
    "# 검색 상단에 등장한 내용을 클릭\n",
    "target = driver.find_element(By.XPATH, \"/html/body/div[2]/div/div/div[2]/div/div/div[1]/div[1]/div[1]/div/div/div[2]/div/div/div[2]/div/div/div[2]/div/a[1]/div[1]\")\n",
    "target.click()"
   ]
  },
  {
   "cell_type": "code",
   "execution_count": 15,
   "id": "d3841a60",
   "metadata": {},
   "outputs": [],
   "source": [
    "# 첫번째 게시글 선택\n",
    "FirstPost=driver.find_element(By.XPATH, \"/html/body/div[2]/div/div/div[2]/div/div/div[1]/div[2]/div/div[2]/section/main/div/div[3]/div/div[1]/div[1]/a/div[1]/div[2]\")\n",
    "FirstPost.click()"
   ]
  },
  {
   "cell_type": "code",
   "execution_count": 22,
   "id": "e768be0e-5c0d-4bfc-9d94-394c027aa940",
   "metadata": {},
   "outputs": [],
   "source": [
    "# 첫번째 게시글 처리\n",
    "# 문서 객체(Object)를 만들어 줄 차례입니다. 참고로 객체란 클래스(Class)를 변수로 선언해줌으로써 만들 수 있습니다.\n",
    "doc = Document()"
   ]
  },
  {
   "cell_type": "code",
   "execution_count": 23,
   "id": "28cea779-b8b3-4ce4-aef7-23777cd5ebdd",
   "metadata": {},
   "outputs": [
    {
     "data": {
      "text/plain": [
       "<docx.text.paragraph.Paragraph at 0x20c4c195990>"
      ]
     },
     "execution_count": 23,
     "metadata": {},
     "output_type": "execute_result"
    }
   ],
   "source": [
    "# 날짜 추출\n",
    "dateElement=driver.find_element(By.CSS_SELECTOR, \"time.x1p4m5qa\")\n",
    "date=dateElement.text\n",
    "if \",\" not in date:\n",
    "    date+=\", 2024\"\n",
    "doc.add_paragraph(date)"
   ]
  },
  {
   "cell_type": "code",
   "execution_count": 24,
   "id": "212d818b-0524-4449-8c2d-e4ec4efd0c21",
   "metadata": {},
   "outputs": [],
   "source": [
    "# 이미지 추출할 Element 구하기\n",
    "innerElement = driver.find_element(By.CLASS_NAME, \"_aamm\")\n",
    "imgs = innerElement.find_elements(By.CSS_SELECTOR, \"div._aagv > img\")\n",
    "\n",
    "# 한 번에 이미지를 2개만 얻을 수 있음\n",
    "# -> 버튼을 누르고 이미지를 다운받고 반복\n",
    "\n",
    "# 버튼 Element 구하기\n",
    "NextButton = innerElement.find_element(By.CLASS_NAME, \"_9zm2\")\n",
    "\n",
    "#이미지의 개수 구하기\n",
    "imgsCntElement = innerElement.find_element(By.CSS_SELECTOR, \"div._aamj._acvz._acnc._acng\")\n",
    "imgsCnt = int(imgsCntElement.get_attribute(\"childElementCount\"))\n",
    "\n",
    "#대표사진 다운로드\n",
    "urlretrieve(imgs[0].get_attribute(\"src\"), \"C:\\\\Users\\\\4444d\\\\Desktop\\\\trymyimgs\\\\\"+str(TotalImgsCnt)+\".jpg\")\n",
    "doc.add_picture(\"C:\\\\Users\\\\4444d\\\\Desktop\\\\trymyimgs\\\\\"+str(TotalImgsCnt)+\".jpg\",width= Cm(10), height= Cm(12.5))\n",
    "TotalImgsCnt+=1\n",
    "\n",
    "#나머지 다운로드\n",
    "ButtonClickCnt = imgsCnt-1\n",
    "\n",
    "for i in range(ButtonClickCnt):\n",
    "    NextButton.click()\n",
    "    time.sleep(1)\n",
    "    urlretrieve(((innerElement.find_elements(By.CSS_SELECTOR, \"div._aagv > img\")[1]).get_attribute(\"src\")), \"C:\\\\Users\\\\4444d\\\\Desktop\\\\trymyimgs\\\\\"+str(TotalImgsCnt)+\".jpg\")\n",
    "    time.sleep(1)\n",
    "    doc.add_picture(\"C:\\\\Users\\\\4444d\\\\Desktop\\\\trymyimgs\\\\\"+str(TotalImgsCnt)+\".jpg\",width = Cm(10), height = Cm(12.5))\n",
    "    TotalImgsCnt+=1\n",
    "    time.sleep(1)\n",
    "doc.save(\"C:\\\\Github\\\\web-crawling-ex\\\\trymy\\\\\" + \"test2.docx\")"
   ]
  },
  {
   "cell_type": "code",
   "execution_count": 44,
   "id": "4ac85823",
   "metadata": {},
   "outputs": [
    {
     "data": {
      "text/plain": [
       "<bound method Document.add_paragraph of <docx.document.Document object at 0x000001D5D7AA5FD0>>"
      ]
     },
     "execution_count": 44,
     "metadata": {},
     "output_type": "execute_result"
    }
   ],
   "source": [
    "doc = Document()\n",
    "doc.add_paragraph()"
   ]
  },
  {
   "cell_type": "code",
   "execution_count": 207,
   "id": "22674efe-25c6-4d70-bca6-82a9e442d57f",
   "metadata": {},
   "outputs": [],
   "source": [
    "imgs = innerElement.find_elements(By.CSS_SELECTOR, \"div._aagv > img\")"
   ]
  },
  {
   "cell_type": "code",
   "execution_count": 209,
   "id": "b0bb3534-9b1f-4a22-92ee-93e8acc10b12",
   "metadata": {
    "scrolled": true
   },
   "outputs": [
    {
     "name": "stdout",
     "output_type": "stream",
     "text": [
      "[<selenium.webdriver.remote.webelement.WebElement (session=\"9566a91fcb29dada45b0fb8f5f1b18a9\", element=\"f.BB4CC036D141889DCD084F3A49129866.d.D4A4DAEB1A9138990167320B3D0AE33B.e.31628\")>, <selenium.webdriver.remote.webelement.WebElement (session=\"9566a91fcb29dada45b0fb8f5f1b18a9\", element=\"f.BB4CC036D141889DCD084F3A49129866.d.D4A4DAEB1A9138990167320B3D0AE33B.e.31665\")>, <selenium.webdriver.remote.webelement.WebElement (session=\"9566a91fcb29dada45b0fb8f5f1b18a9\", element=\"f.BB4CC036D141889DCD084F3A49129866.d.D4A4DAEB1A9138990167320B3D0AE33B.e.31676\")>] 3\n"
     ]
    },
    {
     "data": {
      "text/plain": [
       "'https://scontent.cdninstagram.com/v/t51.29350-15/441329470_1179948193370016_8568860470808571540_n.jpg?stp=dst-jpg_e35&efg=eyJ2ZW5jb2RlX3RhZyI6ImltYWdlX3VybGdlbi4xNDQweDE4MDAuc2RyLmYyOTM1MCJ9&_nc_ht=scontent.cdninstagram.com&_nc_cat=100&_nc_ohc=73cGto3SouAQ7kNvgHPsV94&edm=APs17CUBAAAA&ccb=7-5&ig_cache_key=MzM2MTMwODAyODk5Njc4MTE3OQ%3D%3D.2-ccb7-5&oh=00_AYA4Fv1sV-JYJnRnXzHowFjP5cXsOMW-snM2n7LhEXO7Sg&oe=664AD901&_nc_sid=10d13b'"
      ]
     },
     "execution_count": 209,
     "metadata": {},
     "output_type": "execute_result"
    }
   ],
   "source": [
    "print(imgs, len(imgs))\n",
    "imgs[1].get_attribute(\"src\")"
   ]
  },
  {
   "cell_type": "code",
   "execution_count": 206,
   "id": "f9512da4-7412-4af2-8190-9259513da116",
   "metadata": {},
   "outputs": [],
   "source": [
    "NextButton.click()"
   ]
  },
  {
   "cell_type": "code",
   "execution_count": 219,
   "id": "9cac2d98-eccd-4e6c-8741-11d4115b3f65",
   "metadata": {},
   "outputs": [
    {
     "data": {
      "text/plain": [
       "8"
      ]
     },
     "execution_count": 219,
     "metadata": {},
     "output_type": "execute_result"
    }
   ],
   "source": [
    "TotalImgsCnt"
   ]
  },
  {
   "cell_type": "code",
   "execution_count": null,
   "id": "b4034c21-1fa5-4acc-acda-497550258ade",
   "metadata": {},
   "outputs": [],
   "source": []
  },
  {
   "cell_type": "code",
   "execution_count": 238,
   "id": "c8c48dfb-ac08-49e7-a846-90f23e9ff5bf",
   "metadata": {},
   "outputs": [
    {
     "data": {
      "text/plain": [
       "<docx.shape.InlineShape at 0x1d5da01b8d0>"
      ]
     },
     "execution_count": 238,
     "metadata": {},
     "output_type": "execute_result"
    }
   ],
   "source": []
  },
  {
   "cell_type": "code",
   "execution_count": null,
   "id": "0a972b87-a2a4-476a-92a2-118e90fda3e8",
   "metadata": {},
   "outputs": [],
   "source": []
  }
 ],
 "metadata": {
  "kernelspec": {
   "display_name": "Python 3 (ipykernel)",
   "language": "python",
   "name": "python3"
  },
  "language_info": {
   "codemirror_mode": {
    "name": "ipython",
    "version": 3
   },
   "file_extension": ".py",
   "mimetype": "text/x-python",
   "name": "python",
   "nbconvert_exporter": "python",
   "pygments_lexer": "ipython3",
   "version": "3.11.7"
  }
 },
 "nbformat": 4,
 "nbformat_minor": 5
}
