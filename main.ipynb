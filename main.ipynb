{
 "cells": [
  {
   "cell_type": "code",
   "execution_count": 21,
   "id": "b3052fb1",
   "metadata": {},
   "outputs": [
    {
     "name": "stdout",
     "output_type": "stream",
     "text": [
      "Collecting python-docx\n",
      "  Downloading python_docx-1.1.2-py3-none-any.whl (244 kB)\n",
      "Requirement already satisfied: lxml>=3.1.0 in c:\\users\\rlapo\\anaconda3\\lib\\site-packages (from python-docx) (4.6.3)\n",
      "Requirement already satisfied: typing-extensions>=4.9.0 in c:\\users\\rlapo\\anaconda3\\lib\\site-packages (from python-docx) (4.11.0)\n",
      "Installing collected packages: python-docx\n",
      "Successfully installed python-docx-1.1.2\n"
     ]
    }
   ],
   "source": [
    "#!pip install python-dotenv\n",
    "#!pip install selenium\n",
    "#!pip install python-docx"
   ]
  },
  {
   "cell_type": "code",
   "execution_count": 1,
   "id": "59a4853b",
   "metadata": {},
   "outputs": [],
   "source": [
    "from dotenv import load_dotenv\n",
    "from selenium import webdriver as wb\n",
    "from selenium.webdriver.common.keys import Keys\n",
    "from selenium.webdriver.common.by import By\n",
    "import time\n",
    "import os\n",
    "from urllib.request import urlretrieve\n",
    "import re\n",
    "# 가장 기본적인 기능(문서 열기, 저장, 글자 쓰기 등등)\n",
    "from docx import Document"
   ]
  },
  {
   "cell_type": "code",
   "execution_count": 2,
   "id": "90e8e0c8",
   "metadata": {},
   "outputs": [],
   "source": [
    "load_dotenv()\n",
    "INSTAGRAM_ID=os.environ['INSTAGRAM_ID']\n",
    "INSTAGRAM_PW=os.environ['INSTAGRAM_PW']\n",
    "TARGET=os.environ['TARGET']\n",
    "\n",
    "driver = wb.Chrome()\n",
    "driver.get(\"https://www.instagram.com/\")"
   ]
  },
  {
   "cell_type": "code",
   "execution_count": 3,
   "id": "fc6f996b",
   "metadata": {},
   "outputs": [],
   "source": [
    "#로그인 정보 입력\n",
    "# 아이디 입력하는 방법\n",
    "inputID = driver.find_element(By.CSS_SELECTOR, \"#loginForm > div > div:nth-child(1) > div > label > input\")\n",
    "inputID.send_keys(INSTAGRAM_ID)"
   ]
  },
  {
   "cell_type": "code",
   "execution_count": 4,
   "id": "48409804",
   "metadata": {},
   "outputs": [],
   "source": [
    "# 비밀번호 입력하는 방법\n",
    "inputPW = driver.find_element(By.CSS_SELECTOR, \"#loginForm > div > div:nth-child(2) > div > label > input\")\n",
    "inputPW.send_keys(INSTAGRAM_PW)"
   ]
  },
  {
   "cell_type": "code",
   "execution_count": 5,
   "id": "efef2f2b",
   "metadata": {},
   "outputs": [],
   "source": [
    "# 로그인 버튼을 클릭    \n",
    "loginBtn = driver.find_element(By.CSS_SELECTOR, \"#loginForm > div > div:nth-child(3) > button > div\")\n",
    "loginBtn.click()"
   ]
  },
  {
   "cell_type": "code",
   "execution_count": 6,
   "id": "131cd440",
   "metadata": {},
   "outputs": [],
   "source": [
    "# 로그인저장 나중에하기 버튼 클릭\n",
    "laterBtn = driver.find_element(By.XPATH, \"/html/body/div[2]/div/div/div[2]/div/div/div[1]/div[1]/div[2]/section/main/div/div/div/div/div\")\n",
    "laterBtn.click()\n"
   ]
  },
  {
   "cell_type": "code",
   "execution_count": 7,
   "id": "71477ffa",
   "metadata": {},
   "outputs": [],
   "source": [
    "# 알림설정 나중에하기 버튼 클릭\n",
    "noticeBtn = driver.find_element(By.XPATH, \"/html/body/div[3]/div[1]/div/div[2]/div/div/div/div/div[2]/div/div/div[3]/button[2]\")\n",
    "noticeBtn.click()"
   ]
  },
  {
   "cell_type": "code",
   "execution_count": 8,
   "id": "362af2a6",
   "metadata": {},
   "outputs": [],
   "source": [
    "# 검색버튼의 위치를 클릭\n",
    "searchBtn = driver.find_element(By.XPATH, \"/html/body/div[2]/div/div/div[2]/div/div/div[1]/div[1]/div[1]/div/div/div/div/div[2]/div[2]/span/div/a/div/div[1]/div/div\")\n",
    "searchBtn.click()"
   ]
  },
  {
   "cell_type": "code",
   "execution_count": 9,
   "id": "d7c3d0b9",
   "metadata": {},
   "outputs": [],
   "source": [
    "# 검색창에 타겟 입력\n",
    "searchInput = driver.find_element(By.XPATH, \"/html/body/div[2]/div/div/div[2]/div/div/div[1]/div[1]/div[1]/div/div/div[2]/div/div/div[2]/div/div/div[1]/div/div/input\")\n",
    "searchInput.send_keys(TARGET)"
   ]
  },
  {
   "cell_type": "code",
   "execution_count": 10,
   "id": "28f13664",
   "metadata": {},
   "outputs": [],
   "source": [
    "# 검색 상단에 등장한 내용을 클릭\n",
    "target = driver.find_element(By.XPATH, \"/html/body/div[2]/div/div/div[2]/div/div/div[1]/div[1]/div[1]/div/div/div[2]/div/div/div[2]/div/div/div[2]/div/a[1]/div[1]\")\n",
    "target.click()"
   ]
  },
  {
   "cell_type": "code",
   "execution_count": 16,
   "id": "9f96f5a3",
   "metadata": {},
   "outputs": [
    {
     "data": {
      "text/plain": [
       "33"
      ]
     },
     "execution_count": 16,
     "metadata": {},
     "output_type": "execute_result"
    }
   ],
   "source": [
    "\n",
    "img = driver.find_elements(By.CSS_SELECTOR, \"div._aagv > img\")\n",
    "# for i in range(len(img)) :\n",
    "#     urlretrieve(img[i].get_attribute(\"src\"), \"C:/Users/SM03/Desktop/이미지/\"+str(i)+\".jpg\")\n",
    "#     time.sleep(1)\n",
    "len(img)"
   ]
  },
  {
   "cell_type": "code",
   "execution_count": 19,
   "id": "d3841a60",
   "metadata": {},
   "outputs": [],
   "source": [
    "# 첫번째 게시글 선택\n",
    "FirstPost=driver.find_element(By.XPATH, \"/html/body/div[2]/div/div/div[2]/div/div/div[1]/div[2]/div/div[2]/section/main/div/div[3]/div/div[1]/div[1]/a/div[1]/div[2]\")\n",
    "FirstPost.click()"
   ]
  },
  {
   "cell_type": "code",
   "execution_count": 23,
   "id": "4ac85823",
   "metadata": {},
   "outputs": [],
   "source": [
    "#위에서 import를 했다면 문서 객체(Object)를 만들어 줄 차례입니다. 참고로 객체란 클래스(Class)를 변수로 선언해줌으로써 만들 수 있습니다.\n",
    "doc = Document()\n",
    "\n"
   ]
  },
  {
   "cell_type": "code",
   "execution_count": 36,
   "id": "eebec028",
   "metadata": {},
   "outputs": [],
   "source": [
    "doc.save(\"C:\\\\Users\\\\rlapo\\\\OneDrive\\\\바탕 화면\\\\trymy\\\\\" + \"test.docx\")"
   ]
  },
  {
   "cell_type": "code",
   "execution_count": null,
   "id": "1a994819",
   "metadata": {},
   "outputs": [],
   "source": []
  }
 ],
 "metadata": {
  "kernelspec": {
   "display_name": "Python 3 (ipykernel)",
   "language": "python",
   "name": "python3"
  },
  "language_info": {
   "codemirror_mode": {
    "name": "ipython",
    "version": 3
   },
   "file_extension": ".py",
   "mimetype": "text/x-python",
   "name": "python",
   "nbconvert_exporter": "python",
   "pygments_lexer": "ipython3",
   "version": "3.9.7"
  }
 },
 "nbformat": 4,
 "nbformat_minor": 5
}
