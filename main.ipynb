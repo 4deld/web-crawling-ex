{
 "cells": [
  {
   "cell_type": "code",
   "execution_count": 2,
   "id": "b3052fb1",
   "metadata": {},
   "outputs": [
    {
     "name": "stdout",
     "output_type": "stream",
     "text": [
      "Collecting python-dotenv\n",
      "  Using cached python_dotenv-1.0.1-py3-none-any.whl (19 kB)\n",
      "Installing collected packages: python-dotenv\n",
      "Successfully installed python-dotenv-1.0.1\n",
      "Collecting selenium\n",
      "  Using cached selenium-4.20.0-py3-none-any.whl (9.5 MB)\n",
      "Collecting trio~=0.17\n",
      "  Using cached trio-0.25.0-py3-none-any.whl (467 kB)\n",
      "Collecting typing_extensions>=4.9.0\n",
      "  Using cached typing_extensions-4.11.0-py3-none-any.whl (34 kB)\n",
      "Requirement already satisfied: urllib3[socks]<3,>=1.26 in c:\\users\\rlapo\\anaconda3\\lib\\site-packages (from selenium) (1.26.7)\n",
      "Collecting trio-websocket~=0.9\n",
      "  Using cached trio_websocket-0.11.1-py3-none-any.whl (17 kB)\n",
      "Requirement already satisfied: certifi>=2021.10.8 in c:\\users\\rlapo\\anaconda3\\lib\\site-packages (from selenium) (2021.10.8)\n",
      "Requirement already satisfied: idna in c:\\users\\rlapo\\anaconda3\\lib\\site-packages (from trio~=0.17->selenium) (3.2)\n",
      "Collecting sniffio>=1.3.0\n",
      "  Using cached sniffio-1.3.1-py3-none-any.whl (10 kB)\n",
      "Collecting outcome\n",
      "  Using cached outcome-1.3.0.post0-py2.py3-none-any.whl (10 kB)\n",
      "Collecting exceptiongroup\n",
      "  Using cached exceptiongroup-1.2.1-py3-none-any.whl (16 kB)\n",
      "Requirement already satisfied: cffi>=1.14 in c:\\users\\rlapo\\anaconda3\\lib\\site-packages (from trio~=0.17->selenium) (1.14.6)\n",
      "Collecting attrs>=23.2.0\n",
      "  Using cached attrs-23.2.0-py3-none-any.whl (60 kB)\n",
      "Requirement already satisfied: sortedcontainers in c:\\users\\rlapo\\anaconda3\\lib\\site-packages (from trio~=0.17->selenium) (2.4.0)\n",
      "Requirement already satisfied: pycparser in c:\\users\\rlapo\\anaconda3\\lib\\site-packages (from cffi>=1.14->trio~=0.17->selenium) (2.20)\n",
      "Collecting wsproto>=0.14\n",
      "  Using cached wsproto-1.2.0-py3-none-any.whl (24 kB)\n",
      "Requirement already satisfied: PySocks!=1.5.7,<2.0,>=1.5.6 in c:\\users\\rlapo\\anaconda3\\lib\\site-packages (from urllib3[socks]<3,>=1.26->selenium) (1.7.1)\n",
      "Collecting h11<1,>=0.9.0\n",
      "  Using cached h11-0.14.0-py3-none-any.whl (58 kB)\n",
      "Installing collected packages: attrs, sniffio, outcome, h11, exceptiongroup, wsproto, trio, typing-extensions, trio-websocket, selenium\n",
      "  Attempting uninstall: attrs\n",
      "    Found existing installation: attrs 21.2.0\n",
      "    Uninstalling attrs-21.2.0:\n",
      "      Successfully uninstalled attrs-21.2.0\n",
      "  Attempting uninstall: sniffio\n",
      "    Found existing installation: sniffio 1.2.0\n",
      "    Uninstalling sniffio-1.2.0:\n",
      "      Successfully uninstalled sniffio-1.2.0\n",
      "  Attempting uninstall: typing-extensions\n",
      "    Found existing installation: typing-extensions 3.10.0.2\n",
      "    Uninstalling typing-extensions-3.10.0.2:\n",
      "      Successfully uninstalled typing-extensions-3.10.0.2\n",
      "Successfully installed attrs-23.2.0 exceptiongroup-1.2.1 h11-0.14.0 outcome-1.3.0.post0 selenium-4.20.0 sniffio-1.3.1 trio-0.25.0 trio-websocket-0.11.1 typing-extensions-4.11.0 wsproto-1.2.0\n"
     ]
    }
   ],
   "source": [
    "#!pip install python-dotenv\n",
    "#!pip install selenium"
   ]
  },
  {
   "cell_type": "code",
   "execution_count": 3,
   "id": "59a4853b",
   "metadata": {},
   "outputs": [],
   "source": [
    "from dotenv import load_dotenv\n",
    "from selenium import webdriver as wb\n",
    "from selenium.webdriver.common.keys import Keys\n",
    "from selenium.webdriver.common.by import By\n",
    "import time\n",
    "import os\n",
    "from urllib.request import urlretrieve\n",
    "import re"
   ]
  },
  {
   "cell_type": "code",
   "execution_count": 30,
   "id": "90e8e0c8",
   "metadata": {},
   "outputs": [],
   "source": [
    "load_dotenv()\n",
    "INSTAGRAM_ID=os.environ['INSTAGRAM_ID']\n",
    "INSTAGRAM_PW=os.environ['INSTAGRAM_PW']\n",
    "TARGET=os.environ['TARGET']\n",
    "\n",
    "driver = wb.Chrome()\n",
    "driver.get(\"https://www.instagram.com/\")"
   ]
  },
  {
   "cell_type": "code",
   "execution_count": 31,
   "id": "fc6f996b",
   "metadata": {},
   "outputs": [],
   "source": [
    "#로그인 정보 입력\n",
    "# 아이디 입력하는 방법\n",
    "inputID = driver.find_element(By.CSS_SELECTOR, \"#loginForm > div > div:nth-child(1) > div > label > input\")\n",
    "inputID.send_keys(INSTAGRAM_ID)"
   ]
  },
  {
   "cell_type": "code",
   "execution_count": 32,
   "id": "48409804",
   "metadata": {},
   "outputs": [],
   "source": [
    "# 비밀번호 입력하는 방법\n",
    "inputPW = driver.find_element(By.CSS_SELECTOR, \"#loginForm > div > div:nth-child(2) > div > label > input\")\n",
    "inputPW.send_keys(INSTAGRAM_PW)"
   ]
  },
  {
   "cell_type": "code",
   "execution_count": 35,
   "id": "efef2f2b",
   "metadata": {},
   "outputs": [],
   "source": [
    "# 로그인 버튼을 클릭    \n",
    "loginBtn = driver.find_element(By.CSS_SELECTOR, \"#loginForm > div > div:nth-child(3) > button > div\")\n",
    "loginBtn.click()"
   ]
  },
  {
   "cell_type": "code",
   "execution_count": 40,
   "id": "131cd440",
   "metadata": {},
   "outputs": [],
   "source": [
    "# 로그인저장 나중에하기 버튼 클릭\n",
    "laterBtn = driver.find_element(By.XPATH, \"/html/body/div[2]/div/div/div[2]/div/div/div[1]/div[1]/div[2]/section/main/div/div/div/div/div\")\n",
    "laterBtn.click()\n"
   ]
  },
  {
   "cell_type": "code",
   "execution_count": 41,
   "id": "71477ffa",
   "metadata": {},
   "outputs": [],
   "source": [
    "# 알림설정 나중에하기 버튼 클릭\n",
    "noticeBtn = driver.find_element(By.XPATH, \"/html/body/div[5]/div[1]/div/div[2]/div/div/div/div/div[2]/div/div/div[3]/button[2]\")\n",
    "noticeBtn.click()"
   ]
  },
  {
   "cell_type": "code",
   "execution_count": 42,
   "id": "362af2a6",
   "metadata": {},
   "outputs": [],
   "source": [
    "# 검색버튼의 위치를 클릭\n",
    "searchBtn = driver.find_element(By.XPATH, \"/html/body/div[2]/div/div/div[2]/div/div/div[1]/div[1]/div[1]/div/div/div/div/div[2]/div[2]/span/div/a/div/div[1]/div/div\")\n",
    "searchBtn.click()"
   ]
  },
  {
   "cell_type": "code",
   "execution_count": 43,
   "id": "d7c3d0b9",
   "metadata": {},
   "outputs": [],
   "source": [
    "# 검색창에 타겟 입력\n",
    "searchInput = driver.find_element(By.XPATH, \"/html/body/div[2]/div/div/div[2]/div/div/div[1]/div[1]/div[1]/div/div/div[2]/div/div/div[2]/div/div/div[1]/div/div/input\")\n",
    "searchInput.send_keys(TARGET)"
   ]
  },
  {
   "cell_type": "code",
   "execution_count": null,
   "id": "28f13664",
   "metadata": {},
   "outputs": [],
   "source": [
    "# 검색 상단에 등장한 내용을 클릭\n",
    "target = driver.find_element(By.XPATH, \"#react-root > section > nav > div._8MQSO.Cx7Bp > div > div > div.QY4Ed.P0xOK > div.yPP5B > div > div._01UL2 > div > div.JvDyy > a > div\")\n",
    "target.click()"
   ]
  }
 ],
 "metadata": {
  "kernelspec": {
   "display_name": "Python 3 (ipykernel)",
   "language": "python",
   "name": "python3"
  },
  "language_info": {
   "codemirror_mode": {
    "name": "ipython",
    "version": 3
   },
   "file_extension": ".py",
   "mimetype": "text/x-python",
   "name": "python",
   "nbconvert_exporter": "python",
   "pygments_lexer": "ipython3",
   "version": "3.9.7"
  }
 },
 "nbformat": 4,
 "nbformat_minor": 5
}
